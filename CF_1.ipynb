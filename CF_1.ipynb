{
 "cells": [
  {
   "cell_type": "markdown",
   "metadata": {},
   "source": [
    "# Computational Finance Assignment1"
   ]
  },
  {
   "cell_type": "code",
   "execution_count": null,
   "metadata": {},
   "outputs": [],
   "source": [
    "import math\n",
    "import sympy as sp\n",
    "import numpy as np"
   ]
  },
  {
   "cell_type": "markdown",
   "metadata": {},
   "source": [
    "## Part I Theory: derivatives and no-arbitrage"
   ]
  },
  {
   "cell_type": "markdown",
   "metadata": {},
   "source": [
    "### 1. Prove:\n",
    "\n",
    "`A = C(1 + r/n)^(nt) = C * e^(rt)`\n",
    "\n",
    "The standard compound interest formula is: \n",
    "\n",
    "`A = C(1 + r/n)^(nt)`, where:\n",
    "\n",
    "- `A` is the future value,\n",
    "- `C` is the principal (initial investment),\n",
    "- `r` is the annual interest rate,\n",
    "- `n` is the number of compound interest per year,\n",
    "- `t` is time in years.\n",
    "\n",
    "As we let `n` go to infinity, we can use the property of the base `e` of the natural logarithm, `(1 + 1/n)^n` tends to `e` as `n` goes to infinity. We set `n = 1,10,100,1000,10000` to compare these two results\n"
   ]
  },
  {
   "cell_type": "code",
   "execution_count": null,
   "metadata": {},
   "outputs": [],
   "source": [
    "C = 1 \n",
    "r = 0.1\n",
    "t = 1\n",
    "\n",
    "A_true = C * math.exp(r * t) \n",
    "ns = [1,10,100,1000,10000]\n",
    "for n in ns:\n",
    "    A_n= C * pow(1 + r/n, n * t)\n",
    "    absolute_error = abs(A_true - A_n)/A_true\n",
    "    print(f\"Continuous compound interest : {A_true} \", f\"Standard compound interest (with n = {n}): {A_n}\")\n",
    "    print(f\"Absolute Error:{absolute_error}\")\n",
    "    print(\"\\n\")\n"
   ]
  },
  {
   "cell_type": "markdown",
   "metadata": {},
   "source": [
    "### 2.  Calculate the fair-value of a coupon bond."
   ]
  },
  {
   "cell_type": "code",
   "execution_count": null,
   "metadata": {},
   "outputs": [],
   "source": [
    "\n",
    "\n",
    "# Calculate the fair value of a bond\n",
    "# Given parameters\n",
    "face_value = 50000  # Face value of the bond\n",
    "coupon = 300  # Coupon payment per quarter\n",
    "maturity = 2  # Maturity period in years\n",
    "risk_free_rate = 0.015  # Risk-free interest rate\n",
    "quarters = maturity * 4  # Total number of quarters for payments\n",
    "\n",
    "# Calculate the present value of each quarter\n",
    "present_value_coupons = sum(coupon * sp.exp(-risk_free_rate * t/4) for t in range(1, quarters + 1))\n",
    "\n",
    "# Present value of the final principal payment\n",
    "present_value_face_value = face_value * sp.exp(-risk_free_rate * maturity)\n",
    "\n",
    "# The fair value of the bond is the sum of present values of all cash flows\n",
    "fair_value_bond = present_value_coupons + present_value_face_value\n",
    "\n",
    "print(f\"Fair-value of this coupon bond : {fair_value_bond.evalf()}\")  # Evaluate the numerical result of the expression\n",
    "\n",
    "\n"
   ]
  },
  {
   "cell_type": "markdown",
   "metadata": {},
   "source": [
    "### 3. "
   ]
  },
  {
   "cell_type": "markdown",
   "metadata": {},
   "source": [
    "### 4. "
   ]
  },
  {
   "cell_type": "markdown",
   "metadata": {},
   "source": [
    "### 5. Prove put-call parity：`C_t + Ke^(-r(T-t)) = P_t + S_0`\n",
    "#### Portfolio A:\n",
    "- Consists of one European call option with the value `C_t` and an investment of `Ke^(-r(T-t))` in the risk-free asset. The payoff at maturity is the greater of `S_T - K` or 0, plus `K`, which simplifies to `max(S_T, K)`.\n",
    "\n",
    "#### Portfolio B:\n",
    "- Consists of one European put option with the value `P_t` and one share of the stock `S_0`. The payoff at maturity is the greater of `K - S_T` or 0, plus `S_T`, which simplifies to `max(S_T, K)`.\n",
    "\n",
    "Given that the payoff of both portfolios is the same at maturity, and no arbitrage opportunities exist, their value should be equal at the present time. This leads to the equation:\n",
    "\n",
    "`C_t + Ke^(-r(T-t)) = P_t + S_0`\n"
   ]
  },
  {
   "cell_type": "markdown",
   "metadata": {},
   "source": [
    "## Part II: Binomial tree: option valuation"
   ]
  },
  {
   "cell_type": "markdown",
   "metadata": {},
   "source": [
    "#### 1. Build the binomial rree and test"
   ]
  },
  {
   "cell_type": "code",
   "execution_count": null,
   "metadata": {},
   "outputs": [],
   "source": [
    "def buildTree(S, vol, T, N):\n",
    "    '''\n",
    "    Build a binomial tree for option pricing.\n",
    "    Paramers:\n",
    "        S: Initial stock price\n",
    "        vol: Volatility\n",
    "        T: Time to expiration\n",
    "        N: Number of steps\n",
    "    Output:\n",
    "        A 2D array representing the binomial tree\n",
    "    '''\n",
    "    dt = T / N  # Time step\n",
    "    u = np.exp(vol * np.sqrt(dt))  # Up factor\n",
    "    d = 1 / u  # Down factor\n",
    "    matrix = np.zeros((N + 1, N + 1))  # Create a 2D array for tree to store the stock prices\n",
    "    \n",
    "    for i in range(N + 1): \n",
    "        for j in range(i + 1):  \n",
    "            matrix[i, j] = S * (u ** j) * (d ** (i - j))\n",
    "            \n",
    "    return matrix\n",
    "\n",
    "def valueOptionMatrix(tree, T, r, K, vol):\n",
    "    '''\n",
    "    Calculate the option value using a binomial tree.\n",
    "    Parameters:\n",
    "        tree: Binomial tree\n",
    "        T: Time to expiration\n",
    "        r: Risk-free interest rate\n",
    "        K: Strike price\n",
    "        vol: Volatility\n",
    "    Output:\n",
    "        Option value at the root of the tree\n",
    "    '''\n",
    "    N = tree.shape[0] - 1  # Number of steps\n",
    "    dt = T / N \n",
    "    u = np.exp(vol * np.sqrt(dt)) \n",
    "    d = 1 / u\n",
    "    p = (np.exp(r * dt) - d) / (u - d)  # Risk-neutral probability\n",
    "\n",
    "    for c in range(N + 1):\n",
    "        tree[N, c] = max(0, tree[N, c] - K) # Option value at expiration\n",
    "    \n",
    "    for i in range(N - 1, -1, -1): \n",
    "        for j in range(i + 1):\n",
    "            # Calculate the expected value of the option\n",
    "            tree[i, j] = np.exp(-r * dt) * (p * tree[i + 1, j + 1] + (1 - p) * tree[i + 1, j])\n",
    "            \n",
    "    return tree[0, 0]"
   ]
  },
  {
   "cell_type": "code",
   "execution_count": null,
   "metadata": {},
   "outputs": [],
   "source": [
    "sigma = 0.2  # Volatility\n",
    "S = 100  # Current stock price\n",
    "T = 1.0  # Time to maturity\n",
    "N = 50  # Number of steps\n",
    "K = 99  # Strike price\n",
    "r = 0.06  # Risk-free interest rate\n",
    "\n",
    "tree = buildTree(S, sigma, T, N)\n",
    "option_price = valueOptionMatrix(tree, T, r, K, sigma)\n",
    "option_price"
   ]
  },
  {
   "cell_type": "markdown",
   "metadata": {},
   "source": [
    "#### 2. "
   ]
  }
 ],
 "metadata": {
  "kernelspec": {
   "display_name": "base",
   "language": "python",
   "name": "python3"
  },
  "language_info": {
   "codemirror_mode": {
    "name": "ipython",
    "version": 3
   },
   "file_extension": ".py",
   "mimetype": "text/x-python",
   "name": "python",
   "nbconvert_exporter": "python",
   "pygments_lexer": "ipython3",
   "version": "3.11.4"
  }
 },
 "nbformat": 4,
 "nbformat_minor": 2
}
