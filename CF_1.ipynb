{
 "cells": [
  {
   "cell_type": "markdown",
   "metadata": {},
   "source": [
    "# Computational Finance Assignment1"
   ]
  },
  {
   "cell_type": "code",
   "execution_count": null,
   "metadata": {},
   "outputs": [],
   "source": [
    "import math\n",
    "import sympy as sp\n",
    "import numpy as np\n",
    "import scipy.stats as si\n",
    "import matplotlib.pyplot as plt\n"
   ]
  },
  {
   "cell_type": "markdown",
   "metadata": {},
   "source": [
    "## Part I Theory: derivatives and no-arbitrage"
   ]
  },
  {
   "cell_type": "markdown",
   "metadata": {},
   "source": [
    "### 1.Prove:\n",
    "\n",
    "`A = C(1 + r/n)^(nt) = C * e^(rt)`\n",
    "\n",
    "The standard compound interest formula is: \n",
    "\n",
    "`A = C(1 + r/n)^(nt)`, where:\n",
    "\n",
    "- `A` is the future value,\n",
    "- `C` is the principal (initial investment),\n",
    "- `r` is the annual interest rate,\n",
    "- `n` is the number of compound interest per year,\n",
    "- `t` is time in years.\n",
    "\n",
    "As we let `n` go to infinity, we can use the property of the base `e` of the natural logarithm, `(1 + 1/n)^n` tends to `e` as `n` goes to infinity. We set `n = 1,10,100,1000,10000` to compare these two results\n"
   ]
  },
  {
   "cell_type": "code",
   "execution_count": null,
   "metadata": {},
   "outputs": [],
   "source": [
    "C = 1 \n",
    "r = 0.1\n",
    "t = 1\n",
    "\n",
    "A_true = C * math.exp(r * t) \n",
    "ns = [1,10,100,1000,10000]\n",
    "for n in ns:\n",
    "    A_n= C * pow(1 + r/n, n * t)\n",
    "    absolute_error = abs(A_true - A_n)/A_true\n",
    "    print(f\"Continuous compound interest : {A_true} \", f\"Standard compound interest (with n = {n}): {A_n}\")\n",
    "    print(f\"Absolute Error:{absolute_error}\")\n",
    "    print(\"\\n\")\n"
   ]
  },
  {
   "cell_type": "markdown",
   "metadata": {},
   "source": [
    "### 2.Calculate the fair-value of a coupon bond."
   ]
  },
  {
   "cell_type": "code",
   "execution_count": null,
   "metadata": {},
   "outputs": [],
   "source": [
    "\n",
    "\n",
    "# Calculate the fair value of a bond\n",
    "# Given parameters\n",
    "face_value = 50000  # Face value of the bond\n",
    "coupon = 300  # Coupon payment per quarter\n",
    "maturity = 2  # Maturity period in years\n",
    "risk_free_rate = 0.015  # Risk-free interest rate\n",
    "quarters = maturity * 4  # Total number of quarters for payments\n",
    "\n",
    "# Calculate the present value of each quarter\n",
    "present_value_coupons = sum(coupon * sp.exp(-risk_free_rate * t/4) for t in range(1, quarters + 1))\n",
    "\n",
    "# Present value of the final principal payment\n",
    "present_value_face_value = face_value * sp.exp(-risk_free_rate * maturity)\n",
    "\n",
    "# The fair value of the bond is the sum of present values of all cash flows\n",
    "fair_value_bond = present_value_coupons + present_value_face_value\n",
    "\n",
    "print(f\"Fair-value of this coupon bond : {fair_value_bond.evalf()}\")  # Evaluate the numerical result of the expression\n",
    "\n",
    "\n"
   ]
  },
  {
   "cell_type": "markdown",
   "metadata": {},
   "source": [
    "### 3.Calculate forward price of a contract at time zero"
   ]
  },
  {
   "cell_type": "markdown",
   "metadata": {},
   "source": [
    "In financial markets, the fair forward price of a contract at time zero is often calculated using the no-arbitrage principle. This principle dictates that the price of derivative securities must be set in a way that does not allow for arbitrage opportunities through risk-free trades with guaranteed profits. The fair forward price, denoted by `F_0`, is expressed as `S_0 * e^(rT)`, which indicates that the forward price is equivalent to the current price of the underlying asset, `S_0`, compounded at the risk-free interest rate r over the time to maturity T.\n",
    "\n",
    "Thus, if the actual forward price in the market deviates from `S_0 * e^(rT)`, arbitrageurs can exploit this difference to secure risk-free profits. \n",
    "\n",
    "If the market forward price is higher than `S_0 * e^(rT)`, it is profitable to sell the forward contract and invest the current underlying asset price `S_0` at the risk-free rate r. \n",
    "\n",
    "Conversely, if the market forward price is lower than `S_0 * e^(rT)`, one can achieve a risk-free profit by entering into a forward contract to buy the asset and simultaneously borrowing the amount `S_0` to purchase the underlying asset. This process will continue until the market forward price adjusts to match the no-arbitrage price of `S_0 * e^(rT)`."
   ]
  },
  {
   "cell_type": "markdown",
   "metadata": {},
   "source": [
    "### 4. Draw the pay-oﬀ diagrams for two portfolios"
   ]
  },
  {
   "cell_type": "markdown",
   "metadata": {},
   "source": [
    "1. A call option and an investment of `Ke^{-rT}` in the money-market; \n",
    "2. A put option and one share of the stock `S`.\n"
   ]
  },
  {
   "cell_type": "code",
   "execution_count": null,
   "metadata": {},
   "outputs": [],
   "source": [
    "\n",
    "# Define the parameters\n",
    "K = 50  # Strike price\n",
    "r = 0.05  # Risk-free rate\n",
    "T = 1  # Time to maturity\n",
    "S0 = 50  # Current stock price\n",
    "\n",
    "# Define the range of stock prices at maturity\n",
    "ST = np.linspace(0, 100, 500)\n",
    "\n",
    "# Calculate the payoff for a call option at maturity\n",
    "call_payoff = np.maximum(ST - K, 0)\n",
    "# Calculate the present value of the investment in the money market\n",
    "money_market_investment = K * np.exp(-r * T)\n",
    "# Total payoff for the first portfolio (call option + money market investment)\n",
    "portfolio1_payoff = call_payoff + money_market_investment\n",
    "\n",
    "# Calculate the payoff for a put option at maturity\n",
    "put_payoff = np.maximum(K - ST, 0)\n",
    "# Total payoff for the second portfolio (put option + stock)\n",
    "portfolio2_payoff = put_payoff + ST\n",
    "\n",
    "# Plot the pay-off diagrams for both portfolios\n",
    "plt.figure(figsize=(14, 7))\n",
    "\n",
    "# Portfolio 1: Call option and money market investment\n",
    "plt.subplot(1, 2, 1)\n",
    "plt.plot(ST, portfolio1_payoff, label='Call Option + Money Market Investment')\n",
    "plt.title('Portfolio 1 Payoff at Maturity')\n",
    "plt.xlabel('Stock Price at Maturity (ST)')\n",
    "plt.ylabel('Profit')\n",
    "plt.legend()\n",
    "plt.grid(True)\n",
    "\n",
    "# Portfolio 2: Put option and stock\n",
    "plt.subplot(1, 2, 2)\n",
    "plt.plot(ST, portfolio2_payoff, label='Put Option + Stock')\n",
    "plt.title('Portfolio 2 Payoff at Maturity')\n",
    "plt.xlabel('Stock Price at Maturity (ST)')\n",
    "plt.ylabel('Profit')\n",
    "plt.legend()\n",
    "plt.grid(True)\n",
    "\n",
    "# Show the plots\n",
    "plt.tight_layout()\n",
    "plt.show()\n"
   ]
  },
  {
   "cell_type": "markdown",
   "metadata": {},
   "source": [
    "Portfolio 1 Payoff at Maturity (Call Option + Money Market Investment): This graph shows that if the stock price at maturity (ST) is below the strike price (K), the payoff is constant because the call option is not exercised and the investor only gets the money market investment value. As the stock price exceeds the strike price, the payoff increases linearly with ST since the call option is exercised.\n",
    "\n",
    "Portfolio 2 Payoff at Maturity (Put Option + Stock): This graph illustrates that if the stock price at maturity is above the strike price, the payoff is linear and increases with ST because the put option is not exercised, and the investor owns the stock. When the stock price is below the strike price, the payoff is constant because the put option is exercised, ensuring the investor sells the stock at the strike price K.\n",
    "\n",
    "The linear payoff beyond the strike price reflects the characteristics of owning the underlying asset (stock) with the protection of an option. The flat part of the payoff represents the protective feature of the option where the loss is limited to the premium paid for the option. ​"
   ]
  },
  {
   "cell_type": "markdown",
   "metadata": {},
   "source": [
    "### 5. Prove put-call parity：`C_t + Ke^(-r(T-t)) = P_t + S_0`\n",
    "#### Portfolio A:\n",
    "- Consists of one European call option with the value `C_t` and an investment of `Ke^(-r(T-t))` in the risk-free asset. The payoff at maturity is the greater of `S_T - K` or 0, plus `K`, which simplifies to `max(S_T, K)`.\n",
    "\n",
    "#### Portfolio B:\n",
    "- Consists of one European put option with the value `P_t` and one share of the stock `S_0`. The payoff at maturity is the greater of `K - S_T` or 0, plus `S_T`, which simplifies to `max(S_T, K)`.\n",
    "\n",
    "Given that the payoff of both portfolios is the same at maturity, and no arbitrage opportunities exist, their value should be equal at the present time. This leads to the equation:\n",
    "\n",
    "`C_t + Ke^(-r(T-t)) = P_t + S_0`\n"
   ]
  },
  {
   "cell_type": "markdown",
   "metadata": {},
   "source": [
    "## Part II: Binomial tree: option valuation"
   ]
  },
  {
   "cell_type": "markdown",
   "metadata": {},
   "source": [
    "#### 1. Build the binomial rree and test"
   ]
  },
  {
   "cell_type": "code",
   "execution_count": null,
   "metadata": {},
   "outputs": [],
   "source": [
    "def buildTree(S, vol, T, N):\n",
    "    '''\n",
    "    Build a binomial tree for option pricing.\n",
    "    Paramers:\n",
    "        S: Initial stock price\n",
    "        vol: Volatility\n",
    "        T: Time to expiration\n",
    "        N: Number of steps\n",
    "    Output:\n",
    "        A 2D array representing the binomial tree\n",
    "    '''\n",
    "    dt = T / N  # Time step\n",
    "    u = np.exp(vol * np.sqrt(dt))  # Up factor\n",
    "    d = 1 / u  # Down factor\n",
    "    matrix = np.zeros((N + 1, N + 1))  # Create a 2D array for tree to store the stock prices\n",
    "    \n",
    "    for i in range(N + 1): \n",
    "        for j in range(i + 1):  \n",
    "            matrix[i, j] = S * (u ** j) * (d ** (i - j))\n",
    "            \n",
    "    return matrix\n",
    "\n",
    "def valueOptionMatrix(tree, T, r, K, vol):\n",
    "    '''\n",
    "    Calculate the option value using a binomial tree.\n",
    "    Parameters:\n",
    "        tree: Binomial tree\n",
    "        T: Time to expiration\n",
    "        r: Risk-free interest rate\n",
    "        K: Strike price\n",
    "        vol: Volatility\n",
    "    Output:\n",
    "        Option value at the root of the tree\n",
    "    '''\n",
    "    N = tree.shape[0] - 1  # Number of steps\n",
    "    dt = T / N \n",
    "    u = np.exp(vol * np.sqrt(dt)) \n",
    "    d = 1 / u\n",
    "    p = (np.exp(r * dt) - d) / (u - d)  # Risk-neutral probability\n",
    "\n",
    "    for c in range(N + 1):\n",
    "        tree[N, c] = max(0, tree[N, c] - K) # Option value at expiration\n",
    "    \n",
    "    for i in range(N - 1, -1, -1): \n",
    "        for j in range(i + 1):\n",
    "            # Calculate the expected value of the option\n",
    "            tree[i, j] = np.exp(-r * dt) * (p * tree[i + 1, j + 1] + (1 - p) * tree[i + 1, j])\n",
    "            \n",
    "    return tree[0, 0]"
   ]
  },
  {
   "cell_type": "code",
   "execution_count": null,
   "metadata": {},
   "outputs": [],
   "source": [
    "sigma = 0.2  # Volatility\n",
    "S = 100  # Current stock price\n",
    "T = 1.0  # Time to maturity\n",
    "N = 50  # Number of steps\n",
    "K = 99  # Strike price\n",
    "r = 0.06  # Risk-free interest rate\n",
    "\n",
    "tree = buildTree(S, sigma, T, N)\n",
    "option_price = valueOptionMatrix(tree, T, r, K, sigma)\n",
    "option_price"
   ]
  },
  {
   "cell_type": "markdown",
   "metadata": {},
   "source": [
    "#### 2.  Compare with the Black-Scholes fomula on value of option"
   ]
  },
  {
   "cell_type": "code",
   "execution_count": null,
   "metadata": {},
   "outputs": [],
   "source": [
    "def black_scholes_call(S, K, T, r, sigma):\n",
    "    \"\"\"\n",
    "    Computes the Black-Scholes formula for a European call option.\n",
    "    \n",
    "    Parameters:\n",
    "        S : float\n",
    "            Current stock price\n",
    "        K : float\n",
    "            Strike price\n",
    "        T : float\n",
    "            Time to expiration\n",
    "        r : float\n",
    "            Risk-free interest rate\n",
    "        sigma : float\n",
    "            Volatility of the underlying stock\n",
    "    \n",
    "    Returns:\n",
    "        call_price : float\n",
    "            Price of the European call option\n",
    "    \"\"\"\n",
    "    # Calculate d1 and d2 parameters\n",
    "    d1 = (np.log(S / K) + (r + 0.5 * sigma ** 2) * T) / (sigma * np.sqrt(T))\n",
    "    d2 = d1 - sigma * np.sqrt(T)\n",
    "    \n",
    "    # Calculate call price using cumulative distribution functions\n",
    "    call_price = (S * si.norm.cdf(d1) - K * np.exp(-r * T) * si.norm.cdf(d2)) \n",
    "    \n",
    "    return call_price\n",
    "\n",
    "def compare_volatilities(S, K, T, r, vol_range, N):\n",
    "    '''\n",
    "    Compare option prices for different volatilities.\n",
    "    Parameters:\n",
    "        S : float\n",
    "            Current stock price\n",
    "        K : float\n",
    "            Strike price\n",
    "        T : float\n",
    "            Time to expiration\n",
    "        r : float\n",
    "            Risk-free interest rate\n",
    "        vol_range : array\n",
    "            Array of volatilities\n",
    "    Returns:\n",
    "        bs_prices : array\n",
    "            Array of option prices for different volatilities under Black-Scholes model and binomial tree model\n",
    "    '''\n",
    "    bs_prices = []\n",
    "    bt_prices = []\n",
    "    for sigma in vol_range:\n",
    "        bs_price = black_scholes_call(S, K, T, r, sigma)\n",
    "        bs_prices.append(bs_price)\n",
    "        tree = buildTree(S, sigma, T, N)\n",
    "        option_price = valueOptionMatrix(tree, T, r, K, sigma)\n",
    "        bt_prices.append(option_price)\n",
    "    return bs_prices, bt_prices\n"
   ]
  },
  {
   "cell_type": "code",
   "execution_count": null,
   "metadata": {},
   "outputs": [],
   "source": [
    "vol_range = np.linspace(0.1, 0.5, 100)\n",
    "\n",
    "bs_prices, binomial_prices = compare_volatilities(S, K, T, r, vol_range, N)\n",
    "\n",
    "# Plotting both Black-Scholes and Binomial tree prices for comparison\n",
    "plt.figure(figsize=(10, 6))\n",
    "plt.plot(vol_range, bs_prices, label='Black-Scholes Prices')\n",
    "plt.plot(vol_range, binomial_prices, label='Binomial Tree Prices', linestyle='--')\n",
    "plt.title('European Call Option Price for Different Volatilities')\n",
    "plt.xlabel('Volatility')\n",
    "plt.ylabel('Call Option Price')\n",
    "plt.legend()\n",
    "plt.grid(True)\n",
    "plt.show()"
   ]
  },
  {
   "cell_type": "markdown",
   "metadata": {},
   "source": [
    "## Part III Black-Scholes: hedging simulations"
   ]
  },
  {
   "cell_type": "markdown",
   "metadata": {},
   "source": [
    "### 1.Prove: ∆t = $N\\left(d_{1}\\right)$"
   ]
  },
  {
   "cell_type": "markdown",
   "metadata": {},
   "source": [
    "From the appendix we can prove that V(t) can be expressed as follows"
   ]
  },
  {
   "cell_type": "markdown",
   "metadata": {},
   "source": [
    "$\\begin{aligned}\n",
    "V(t)& =\\quad e^{-r\\tau}\\mathbb{E}\\left[(S_{T}-K)^{+}\\right]  \\\\\n",
    "&=\\quad e^{-r\\tau}\\mathbb{E}\\left[\\left(S_t\\exp\\left\\{\\left(r-\\frac{1}{2}\\sigma^2\\right)\\tau-\\sigma\\sqrt{\\tau}Z\\right\\}-K\\right)^+\\right] \\\\\n",
    "&\\begin{array}{rcl}=&\\frac{e^{-r\\tau}}{\\sqrt{2\\pi}}\\int_{-\\infty}^{\\infty}\\left(S_{t}\\exp\\left\\{\\left(r-\\frac12\\sigma^{2}\\right)\\tau-\\sigma\\sqrt{\\tau}x\\right\\}-K\\right)^{+}e^{-\\frac12x^{2}}dx\\end{array}\n",
    "\\end{aligned}$\n",
    "\n",
    "The integrand of the integral above is only non-zero if $S_t\\exp\\left\\{\\left(r-\\frac12\\sigma^2\\right)\\tau-\\sigma\\sqrt{\\tau}x\\right\\}-K>0.$ This is exactly the case whenever for the integration-variable $x$ we have\n",
    "\n",
    "$x<\\frac{\\log\\left(\\frac{S_t}{K}\\right)+\\left(r-\\frac{1}{2}\\sigma^2\\right)\\tau}{\\sigma\\sqrt{\\tau}}:=d_2$\n",
    "\n",
    "Let $N( x) : = \\frac 1{\\sqrt {2\\pi}}\\int _{- \\infty}^xe^{- \\frac 12u^2}du$ denote the standard normal cumulative distribution function. Then the integral on the right can easily be rewritten as\n",
    "\n",
    "$\\begin{aligned}\\frac{1}{\\sqrt{2\\pi}}\\int_{-\\infty}^{d_2}e^{-r\\tau}Ke^{-\\frac{1}{2}x^2}dx&=e^{-r\\tau}KN\\left(d_2\\right)\\end{aligned}$\n",
    "\n",
    "\\begin{aligned}\n",
    "&\\text{The integral on the left is trickier and requires a variable substitution. Define }y=x+\\sigma\\sqrt{\\tau}, \\\\\n",
    "&\\text{then the integral can be rewritten as}\n",
    "\\end{aligned}\n",
    "\n",
    "$\\begin{aligned}\n",
    "&\\frac{1}{\\sqrt{2\\pi}}\\int_{-\\infty}^{d_{2}}e^{-r\\tau}S_{t}\\exp\\left\\{\\left(r-\\frac{1}{2}\\sigma^{2}\\right)\\tau-\\sigma\\sqrt{\\tau}x\\right\\}e^{-\\frac{1}{2}x^{2}}dx \\\\\n",
    "&=\\frac{S_{t}}{\\sqrt{2\\pi}}\\int_{-\\infty}^{d_{2}}\\exp\\left\\{-\\frac{1}{2}\\left(x+\\sigma\\sqrt{\\tau}\\right)^{2}\\right\\}dx \\\\\n",
    "&=\\frac{S_{t}}{\\sqrt{2\\pi}}\\int_{-\\infty}^{d_{2}+\\sigma\\sqrt{\\tau}}\\exp\\left\\{-\\frac{1}{2}y^{2}\\right\\}dy=S_{t}N(d_{1})\n",
    "\\end{aligned}$\n",
    "\n",
    "$\\mathrm{where~we~inherently~defined~}d_{1}:=d_{2}+\\sigma\\sqrt{\\tau}.\\mathrm{Our~final~result~is~what~is~known~as~the~Black-Scholes~formula~for~a~call~option:}$\n",
    "\n",
    "$\\begin{aligned}\n",
    "V(t)& =S_{t}N\\left(d_{1}\\right)-e^{-r\\tau}KN\\left(d_{2}\\right)  \\\\\n",
    "d_{1}& =\\frac{\\log\\left(\\frac{S_t}K\\right)+\\left(r+\\frac12\\sigma^2\\right)\\tau}{\\sigma\\sqrt{\\tau}}  \\\\\n",
    "d_{2}& =d_1-\\sigma\\sqrt{\\tau} \n",
    "\\end{aligned}$"
   ]
  },
  {
   "cell_type": "markdown",
   "metadata": {},
   "source": [
    "We have $\\Delta_{t}:=\\frac{\\partial C_{t}}{\\partial S_{t}}$\n",
    "<br>Here $C_{t}$ = $V_{t}$\n",
    "<br>$V(t)=S_tN(d_1)-e^{-rT}KN(d_2)$\n",
    "<br>N(x) denote the standard normal cumulative distribution function."
   ]
  },
  {
   "cell_type": "markdown",
   "metadata": {},
   "source": [
    "Regarding the term $N(x)$, x = d1 or d2, although $x$ is related to the stock price $S_t$, the derivative of $N(x)$ with respect to $S_t$ equals zero. That is because $N(x)$ is the cumulative distribution function of the standard normal distribution, and $x$ incorporates $S_t$ indirectly through $d_1$. However, the impact of $S_t$ on $N(x)$ is not linear and does not directly affect the derivative $\\frac{\\partial C_t}{\\partial S_t}$ which is the Delta of the option.  When we take the derivative of the option price $C_t$ with respect to $S_t$, we are calculating how much the value of $C_t$ changes with a small change in $S_t$. \n",
    "\n",
    "So we have $\\Delta_{t}=\\frac{\\partial C_{t}}{\\partial S_{t}}=\\frac{\\partial S_{t}N\\left(d_{1}\\right)}{\\partial S_{t}}=N\\left(d_{1}\\right)$\n"
   ]
  },
  {
   "cell_type": "markdown",
   "metadata": {},
   "source": [
    "### 2.Prove: $P_t=e^{-r\\tau}KN\\left(-d_2\\right)-S_tN\\left(-d_1\\right)$"
   ]
  },
  {
   "cell_type": "markdown",
   "metadata": {},
   "source": [
    "We have $V(t)=S_tN(d_1)-e^{-rT}KN(d_2)$ and $C_t-P_t=S_t-e^{-rT}K$<br>\n",
    "For the risk-neutral price $V(t)$ of the option, we denote $C_t$, as follows:<br>\n",
    "$P_t=(S_tN(d_1)-e^{-rT}KN(d_2))-S_t+e^{-rT}K$<br>\n",
    "From the properties of the standard normal cumulative distribution function: $N(-d)=1-N(d) $ <br>\n",
    "This can be simplified to:<br>\n",
    "$P_t=e^{-rT}KN(-d_2)-S_tN(-d_1)$"
   ]
  },
  {
   "cell_type": "markdown",
   "metadata": {},
   "source": [
    "### 3.Use the Euler method to perform a hedging simulation"
   ]
  }
 ],
 "metadata": {
  "kernelspec": {
   "display_name": "base",
   "language": "python",
   "name": "python3"
  },
  "language_info": {
   "codemirror_mode": {
    "name": "ipython",
    "version": 3
   },
   "file_extension": ".py",
   "mimetype": "text/x-python",
   "name": "python",
   "nbconvert_exporter": "python",
   "pygments_lexer": "ipython3",
   "version": "3.9.13"
  }
 },
 "nbformat": 4,
 "nbformat_minor": 2
}
